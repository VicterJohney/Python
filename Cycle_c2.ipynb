{
  "nbformat": 4,
  "nbformat_minor": 0,
  "metadata": {
    "colab": {
      "name": "Cycle-2(2).ipynb",
      "provenance": [],
      "collapsed_sections": [],
      "include_colab_link": true
    },
    "kernelspec": {
      "name": "python3",
      "display_name": "Python 3"
    }
  },
  "cells": [
    {
      "cell_type": "markdown",
      "metadata": {
        "id": "view-in-github",
        "colab_type": "text"
      },
      "source": [
        "<a href=\"https://colab.research.google.com/github/VicterJohney/Python/blob/main/Cycle_c2.ipynb\" target=\"_parent\"><img src=\"https://colab.research.google.com/assets/colab-badge.svg\" alt=\"Open In Colab\"/></a>"
      ]
    },
    {
      "cell_type": "code",
      "metadata": {
        "colab": {
          "base_uri": "https://localhost:8080/"
        },
        "id": "wD_Fp7PhIhwi",
        "outputId": "f2aae2f3-0b5c-4a89-e83d-fa5ecbabc242"
      },
      "source": [
        "k1=input(\"enter first key : \")\n",
        "k2=input(\"enter second key : \")\n",
        "k3=input(\"enter third key : \")\n",
        "k4=input(\"enter fourth key : \")\n",
        "k5=input(\"enter fifth key : \")\n",
        "v1=input(\"enter first value : \")\n",
        "v2=input(\"enter second value : \")\n",
        "v3=input(\"enter third value : \")\n",
        "v4=input(\"enter fourth value : \")\n",
        "v5=input(\"enter fifth value : \")\n",
        "d={}\n",
        "d[k1]=v1\n",
        "d[k2]=v2\n",
        "d[k3]=v3\n",
        "d[k4]=v4\n",
        "d[k5]=v5\n",
        "l=list(d.items())   \n",
        "l.sort() \n",
        "print(\"ascending order is : \",l)\n",
        "l=list(d.items())\n",
        "l.sort(reverse = True)\n",
        "print(\"descending order is : \",l)"
      ],
      "execution_count": 1,
      "outputs": [
        {
          "output_type": "stream",
          "text": [
            "enter first key : 1\n",
            "enter second key : 4\n",
            "enter third key : 2\n",
            "enter fourth key : 5\n",
            "enter fifth key : 3\n",
            "enter first value : Apple\n",
            "enter second value : Grape\n",
            "enter third value : Orange\n",
            "enter fourth value : Banana\n",
            "enter fifth value : Jerry\n",
            "ascending order is :  [('1', 'Apple'), ('2', 'Orange'), ('3', 'Jerry'), ('4', 'Grape'), ('5', 'Banana')]\n",
            "descending order is :  [('5', 'Banana'), ('4', 'Grape'), ('3', 'Jerry'), ('2', 'Orange'), ('1', 'Apple')]\n"
          ],
          "name": "stdout"
        }
      ]
    },
    {
      "cell_type": "code",
      "metadata": {
        "colab": {
          "base_uri": "https://localhost:8080/"
        },
        "id": "kEUml1xm8GEz",
        "outputId": "33ea8d59-8f5c-4fb0-c822-440fb6d78379"
      },
      "source": [
        "x=input(\"enter the first string : \")\r\n",
        "y=input(\"enter the second string : \")\r\n",
        "def swapch(x,y): \r\n",
        "  a = y[:1] + x[1:]\r\n",
        "  b = x[:1] + y[1:]\r\n",
        "  return a + ' ' + b\r\n",
        "print(swapch(x,y))"
      ],
      "execution_count": 2,
      "outputs": [
        {
          "output_type": "stream",
          "text": [
            "enter the first string : Drop\n",
            "enter the second string : Cope\n",
            "Crop Dope\n"
          ],
          "name": "stdout"
        }
      ]
    },
    {
      "cell_type": "code",
      "metadata": {
        "colab": {
          "base_uri": "https://localhost:8080/"
        },
        "id": "FZNwNYa1OXCy",
        "outputId": "9bb8c202-ddc3-4e42-b674-a61b78ab6cc5"
      },
      "source": [
        "c1=[]\r\n",
        "x=int(input(\"enter limit for list1 :\"))\r\n",
        "for i in range(1,x+1):\r\n",
        "  a=input()\r\n",
        "  c1.append(a)\r\n",
        "  p=set(c1)\r\n",
        "print(p)\r\n",
        "c2=[]\r\n",
        "y=int(input(\"enter limit for list2 : \"))\r\n",
        "for i in range(1,y+1):\r\n",
        "  b=input()\r\n",
        "  c2.append(b)\r\n",
        "  q=set(c2)\r\n",
        "print(q)\r\n",
        "print(p.difference(q))"
      ],
      "execution_count": 3,
      "outputs": [
        {
          "output_type": "stream",
          "text": [
            "enter limit for list1 :2\n",
            "Red\n",
            "Green\n",
            "{'Red', 'Green'}\n",
            "enter limit for list2 : 3\n",
            "Yellow\n",
            "Orange\n",
            "White\n",
            "{'Yellow', 'Orange', 'White'}\n",
            "{'Red', 'Green'}\n"
          ],
          "name": "stdout"
        }
      ]
    },
    {
      "cell_type": "code",
      "metadata": {
        "colab": {
          "base_uri": "https://localhost:8080/"
        },
        "id": "hgn6FiZdYp9u",
        "outputId": "65034dd0-12ea-46e5-fe4f-4a9d990bca99"
      },
      "source": [
        "a=int(input(\"enter any integer : \"))\r\n",
        "n1=int(\"%s\" %a)\r\n",
        "n2=int(\"%s%s\" %(a,a))\r\n",
        "n3=int(\"%s%s%s\" %(a,a,a))\r\n",
        "print(\"value of n+nn+nnn is : \",n1+n2+n3)"
      ],
      "execution_count": null,
      "outputs": [
        {
          "output_type": "stream",
          "text": [
            "enter any integer : 2\n",
            "value of n+nn+nnn is :  246\n"
          ],
          "name": "stdout"
        }
      ]
    },
    {
      "cell_type": "code",
      "metadata": {
        "colab": {
          "base_uri": "https://localhost:8080/"
        },
        "id": "ay_JmWrkalV3",
        "outputId": "79ed52b8-78c5-4939-eea3-23a2a3c4b1c1"
      },
      "source": [
        "c=[]\r\n",
        "x=int(input(\"enter limit for list : \"))\r\n",
        "for i in range(1,x+1):\r\n",
        "  a=input()\r\n",
        "  c.append(a)\r\n",
        "print(c)\r\n",
        "print(c[0],c[-1])"
      ],
      "execution_count": 5,
      "outputs": [
        {
          "output_type": "stream",
          "text": [
            "enter limit for list : 3\n",
            "Green\n",
            "Yellow\n",
            "Red\n",
            "['Green', 'Yellow', 'Red']\n",
            "Green Red\n"
          ],
          "name": "stdout"
        }
      ]
    },
    {
      "cell_type": "code",
      "metadata": {
        "colab": {
          "base_uri": "https://localhost:8080/"
        },
        "id": "ArJl2I6Od8Bg",
        "outputId": "5a6d482a-5005-4b28-b5bb-2c2c2f7b7791"
      },
      "source": [
        "str=input(\"enter any string : \")\r\n",
        "def rep_ch(str1):\r\n",
        "  char=str1[0]\r\n",
        "  str1=str1.replace(char, '$')\r\n",
        "  str1=char+str1[1:]\r\n",
        "  return str1\r\n",
        "print(rep_ch(str))"
      ],
      "execution_count": 6,
      "outputs": [
        {
          "output_type": "stream",
          "text": [
            "enter any string : Airport\n",
            "Airport\n"
          ],
          "name": "stdout"
        }
      ]
    },
    {
      "cell_type": "code",
      "metadata": {
        "colab": {
          "base_uri": "https://localhost:8080/"
        },
        "id": "aCb03Harg0uC",
        "outputId": "8d56427b-7799-4a68-e44c-d0a2a88afe24"
      },
      "source": [
        "x=[]\n",
        "a=int(input(\"enter limit for list1 : \"))\n",
        "for i in range(1,a+1):\n",
        "  a=int(input())\n",
        "  x.append(a)\n",
        " \n",
        "print(x)\n",
        "y=[]\n",
        "b=int(input(\"enter limit for list2 : \"))\n",
        "for i in range(1,b+1):\n",
        "  b=int(input())\n",
        "  y.append(b)\n",
        "print(y)\n",
        "if (len(x)==len(y)):\n",
        "  print(\"list1 and list2 are of same length i.e.\",len(x))\n",
        "else:\n",
        "  print(\"list1 and list2 are of different length.\")\n",
        "if (sum(x)==sum(y)):\n",
        "  print(\"list1 and list2 sums to the same value i.e.\",sum(x))\n",
        "else:\n",
        "  print(\"list1 and list2 sums up to different values.\")\n",
        "def common(x, y): \n",
        "    p=set(x) \n",
        "    q=set(y) \n",
        "    if len(p.intersection(q)) > 0: \n",
        "        return(p.intersection(q))   \n",
        "    else: \n",
        "        return(\"no common elements\")  \n",
        "print(\"value that occur in both lists is/are :\",common(x,y))"
      ],
      "execution_count": 8,
      "outputs": [
        {
          "output_type": "stream",
          "text": [
            "enter limit for list1 : 3\n",
            "3\n",
            "6\n",
            "9\n",
            "[3, 6, 9]\n",
            "enter limit for list2 : 3\n",
            "2\n",
            "4\n",
            "8\n",
            "[2, 4, 8]\n",
            "list1 and list2 are of same length i.e. 3\n",
            "list1 and list2 sums up to different values.\n",
            "value that occur in both lists is/are : no common elements\n"
          ],
          "name": "stdout"
        }
      ]
    },
    {
      "cell_type": "code",
      "metadata": {
        "colab": {
          "base_uri": "https://localhost:8080/"
        },
        "id": "qLLDsvqu9SwD",
        "outputId": "28b11b4b-3ea9-498c-f0f0-14953543bef0"
      },
      "source": [
        "l=[]\r\n",
        "x=int(input(\"enter the limit : \"))\r\n",
        "for i in range (1,x+1):\r\n",
        "  x=input(\"enter the first name : \")\r\n",
        "  l.append(x)\r\n",
        "  count = x.count('a')\r\n",
        "  print(\"number of time a is present in name:\",count)"
      ],
      "execution_count": 9,
      "outputs": [
        {
          "output_type": "stream",
          "text": [
            "enter the limit : 3\n",
            "enter the first name : Victer\n",
            "number of time a is present in name: 0\n",
            "enter the first name : John\n",
            "number of time a is present in name: 0\n",
            "enter the first name : Sreehari\n",
            "number of time a is present in name: 1\n"
          ],
          "name": "stdout"
        }
      ]
    },
    {
      "cell_type": "code",
      "metadata": {
        "colab": {
          "base_uri": "https://localhost:8080/"
        },
        "id": "8YMaELPCf0Ux",
        "outputId": "055e7d59-a658-4a77-e4e9-eba50fd6ee89"
      },
      "source": [
        "n=input(\"enter your house number : \")\r\n",
        "hname=input(\"enter your house name : \")\r\n",
        "s=input(\"enter your street name : \")\r\n",
        "t=input(\"enter your town/city : \")\r\n",
        "d=input(\"enter your district : \")\r\n",
        "state=input(\"enter your state : \")\r\n",
        "county=input(\"enter your county : \")\r\n",
        "pin=int(input(\"enter your postcode: \"))\r\n",
        "print(\"\\nAddress Details :\\n\" + \"\\nHousenumber :\",n,\"\\nHouse :\",hname,\"\\nStreet : \",s,\"\\nTown/City : \",t,\"District : \",d,\"\\nState : \",state,\"\\nCounty : \",county,\"\\nPostcode : \",pin)"
      ],
      "execution_count": 10,
      "outputs": [
        {
          "output_type": "stream",
          "text": [
            "enter your house number : 1/11\n",
            "enter your house name : Myhome\n",
            "enter your street name : Mystreet\n",
            "enter your town/city : Mycity\n",
            "enter your district : Mydist\n",
            "enter your state : Mystate\n",
            "enter your county : Mycountry\n",
            "enter your postcode: 123456\n",
            "\n",
            "Address Details :\n",
            "\n",
            "Housenumber : 1/11 \n",
            "House : Myhome \n",
            "Street :  Mystreet \n",
            "Town/City :  Mycity District :  Mydist \n",
            "State :  Mystate \n",
            "County :  Mycountry \n",
            "Postcode :  123456\n"
          ],
          "name": "stdout"
        }
      ]
    }
  ]
}