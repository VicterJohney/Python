{
  "nbformat": 4,
  "nbformat_minor": 0,
  "metadata": {
    "colab": {
      "name": "Cycle-2(1).ipynb",
      "provenance": [],
      "collapsed_sections": [],
      "include_colab_link": true
    },
    "kernelspec": {
      "name": "python3",
      "display_name": "Python 3"
    }
  },
  "cells": [
    {
      "cell_type": "markdown",
      "metadata": {
        "id": "view-in-github",
        "colab_type": "text"
      },
      "source": [
        "<a href=\"https://colab.research.google.com/github/VicterJohney/Python/blob/main/Cycle_2(1).ipynb\" target=\"_parent\"><img src=\"https://colab.research.google.com/assets/colab-badge.svg\" alt=\"Open In Colab\"/></a>"
      ]
    },
    {
      "cell_type": "code",
      "metadata": {
        "colab": {
          "base_uri": "https://localhost:8080/"
        },
        "id": "a2rScUc_PV8K",
        "outputId": "6b6bbbe9-fe1c-402d-f428-555b60d065bc"
      },
      "source": [
        "s=int(input(\"enter starting year: \"))\r\n",
        "e=int(input(\"enter ending year: \"))\r\n",
        "print(\"leap years between\",s,\"and\",e)\r\n",
        "while (s<=e):\r\n",
        "    if ((s%400==0) or ((s%4==0) and (s%100!=0))):\r\n",
        "      print(s)\r\n",
        "    s=s+1"
      ],
      "execution_count": 1,
      "outputs": [
        {
          "output_type": "stream",
          "text": [
            "enter starting year: 2020\n",
            "enter ending year: 2050\n",
            "leap years between 2020 and 2050\n",
            "2020\n",
            "2024\n",
            "2028\n",
            "2032\n",
            "2036\n",
            "2040\n",
            "2044\n",
            "2048\n"
          ],
          "name": "stdout"
        }
      ]
    },
    {
      "cell_type": "code",
      "metadata": {
        "id": "NT00rfVcPJUv",
        "colab": {
          "base_uri": "https://localhost:8080/"
        },
        "outputId": "8cc64475-c2cf-4ea4-f22f-bd9e235fadc4"
      },
      "source": [
        "x=[]\n",
        "n=int(input(\"enter list items : \"))\n",
        "for i in range(1,n+1):\n",
        "    a=int(input(\"enter the value of %d item : \"%i))\n",
        "    x.append(a)\n",
        "y=[num for num in x if num >= 0]\n",
        "print(\"initial list of integers is :\",x) \n",
        "print(\"modified list of positive numbers is :\",y)"
      ],
      "execution_count": 2,
      "outputs": [
        {
          "output_type": "stream",
          "text": [
            "enter list items : 3\n",
            "enter the value of 1 item : -2\n",
            "enter the value of 2 item : 0\n",
            "enter the value of 3 item : 2\n",
            "initial list of integers is : [-2, 0, 2]\n",
            "modified list of positive numbers is : [0, 2]\n"
          ],
          "name": "stdout"
        }
      ]
    },
    {
      "cell_type": "code",
      "metadata": {
        "id": "rgujHKss5jLc",
        "colab": {
          "base_uri": "https://localhost:8080/"
        },
        "outputId": "97a30b77-ecac-4e17-9532-a56b3a5dd55d"
      },
      "source": [
        "x=[]\r\n",
        "n=int(input(\"enter list items : \"))\r\n",
        "for i in range(1,n+1):\r\n",
        "    a=int(input(\"enter the value of %d item : \"%i))\r\n",
        "    x.append(a)\r\n",
        "b=(num**2 for num in x)\r\n",
        "print(\"initial list of N numbers :\",x)\r\n",
        "y=list(b)\r\n",
        "print(\"square list of N numbers :\",y)"
      ],
      "execution_count": 3,
      "outputs": [
        {
          "output_type": "stream",
          "text": [
            "enter list items : 4\n",
            "enter the value of 1 item : 1\n",
            "enter the value of 2 item : 2\n",
            "enter the value of 3 item : 4\n",
            "enter the value of 4 item : 8\n",
            "initial list of N numbers : [1, 2, 4, 8]\n",
            "square list of N numbers : [1, 4, 16, 64]\n"
          ],
          "name": "stdout"
        }
      ]
    },
    {
      "cell_type": "code",
      "metadata": {
        "colab": {
          "base_uri": "https://localhost:8080/"
        },
        "id": "U-QTYdUri8FV",
        "outputId": "6b5f6929-90ed-4dc6-f79c-67fa84cd503b"
      },
      "source": [
        "w=input(\"enter any word : \")\r\n",
        "v=[l for l in w if l in 'aeiou' ]\r\n",
        "print(\"list of vowels in\",w,\" :\",v)"
      ],
      "execution_count": 4,
      "outputs": [
        {
          "output_type": "stream",
          "text": [
            "enter any word : NewWord\n",
            "list of vowels in NewWord  : ['e', 'o']\n"
          ],
          "name": "stdout"
        }
      ]
    },
    {
      "cell_type": "code",
      "metadata": {
        "colab": {
          "base_uri": "https://localhost:8080/"
        },
        "id": "nZLRrb4Ff0Cz",
        "outputId": "ae68e0ef-3f89-4c32-d0ed-c0e8856a11f9"
      },
      "source": [
        "w=input(\"enter any word : \")\r\n",
        "for l in range(len(w)) :\r\n",
        "  print(\"ASCII value is\",w[l],\"is\",ord(w[l]))"
      ],
      "execution_count": 5,
      "outputs": [
        {
          "output_type": "stream",
          "text": [
            "enter any word : World\n",
            "ASCII value is W is 87\n",
            "ASCII value is o is 111\n",
            "ASCII value is r is 114\n",
            "ASCII value is l is 108\n",
            "ASCII value is d is 100\n"
          ],
          "name": "stdout"
        }
      ]
    },
    {
      "cell_type": "code",
      "metadata": {
        "colab": {
          "base_uri": "https://localhost:8080/"
        },
        "id": "1VGpyhtRvwo_",
        "outputId": "2e2e99a9-24d1-4397-fb3e-b7a145f3d863"
      },
      "source": [
        "def word_count(str):\r\n",
        "    counts = dict()\r\n",
        "    words = str.split()\r\n",
        "    for word in words:\r\n",
        "        if word in counts:\r\n",
        "            counts[word] += 1\r\n",
        "        else:\r\n",
        "            counts[word] = 1\r\n",
        "    return counts\r\n",
        "str=input(\"enter any text :\")\r\n",
        "print(word_count(str))"
      ],
      "execution_count": 6,
      "outputs": [
        {
          "output_type": "stream",
          "text": [
            "enter any text :Too too much\n",
            "{'Too': 1, 'too': 1, 'much': 1}\n"
          ],
          "name": "stdout"
        }
      ]
    },
    {
      "cell_type": "code",
      "metadata": {
        "colab": {
          "base_uri": "https://localhost:8080/"
        },
        "id": "9Wj8V_UfpBcH",
        "outputId": "66dbdc6a-7204-40d2-f621-510338cf621e"
      },
      "source": [
        "x=[]\r\n",
        "n=int(input(\"enter any integers :\"))\r\n",
        "for i in range(1,n+1):\r\n",
        "  a=int(input())\r\n",
        "  if (a>100):\r\n",
        "    x.append('over')\r\n",
        "  else:\r\n",
        "    x.append(a)\r\n",
        "print(\"modified list :\" ,x)"
      ],
      "execution_count": 7,
      "outputs": [
        {
          "output_type": "stream",
          "text": [
            "enter any integers :3\n",
            "120\n",
            "60\n",
            "240\n",
            "modified list : ['over', 60, 'over']\n"
          ],
          "name": "stdout"
        }
      ]
    },
    {
      "cell_type": "code",
      "metadata": {
        "colab": {
          "base_uri": "https://localhost:8080/"
        },
        "id": "KKXvpFfNsk9X",
        "outputId": "2abbbb32-2f9d-4a11-a60f-0c06e905dcaa"
      },
      "source": [
        "def change(str):\n",
        "      return str[-1:] + str[1:-1] + str[:1]\n",
        "str=input(\"enter any string : \")\n",
        "print(\"modified string : \",change(str))"
      ],
      "execution_count": 8,
      "outputs": [
        {
          "output_type": "stream",
          "text": [
            "enter any string : Malayalam\n",
            "modified string :  malayalaM\n"
          ],
          "name": "stdout"
        }
      ]
    },
    {
      "cell_type": "code",
      "metadata": {
        "colab": {
          "base_uri": "https://localhost:8080/"
        },
        "id": "bb3Trskx5e8K",
        "outputId": "dc86ca0a-757b-4619-a754-0720328fcbce"
      },
      "source": [
        "r=int(input(\"enter the radius of the circle :\"))\r\n",
        "print(\"area of the circle is :\",3.14*r*r)"
      ],
      "execution_count": 9,
      "outputs": [
        {
          "output_type": "stream",
          "text": [
            "enter the radius of the circle :5\n",
            "area of the circle is : 78.5\n"
          ],
          "name": "stdout"
        }
      ]
    },
    {
      "cell_type": "code",
      "metadata": {
        "colab": {
          "base_uri": "https://localhost:8080/"
        },
        "id": "PhzOXm8R-Ejm",
        "outputId": "ff44c604-1eaf-4b28-fee9-9424e3c671c8"
      },
      "source": [
        "a = float(input(\"enter the first value : \"))\r\n",
        "b = float(input(\"enter the second value : \"))\r\n",
        "c = float(input(\"enter the third value : \"))\r\n",
        "if (a > b and a > c):\r\n",
        "  print(a,\"is bigger than both\",b,\"and\",c)\r\n",
        "elif (b > a and b > c):\r\n",
        "  print(b,\"is bigger than both\",a,\"and\",c)\r\n",
        "elif (c > a and c > b):\r\n",
        "  print(c,\"is bigger than both\",a,\"and\",b)\r\n",
        "else:\r\n",
        "  print(\"either any two values or all the three values are equal\")"
      ],
      "execution_count": 10,
      "outputs": [
        {
          "output_type": "stream",
          "text": [
            "enter the first value : 5\n",
            "enter the second value : 10\n",
            "enter the third value : 2\n",
            "10.0 is bigger than both 5.0 and 2.0\n"
          ],
          "name": "stdout"
        }
      ]
    },
    {
      "cell_type": "code",
      "metadata": {
        "colab": {
          "base_uri": "https://localhost:8080/"
        },
        "id": "1YkFFx7NFB1Y",
        "outputId": "b19de00f-6ab3-43d9-9c27-df67fe0c7f7c"
      },
      "source": [
        "f=input(\"enter any filename : \")\r\n",
        "x=f.split(\".\")\r\n",
        "print(\"extension of file is\",x[-1])"
      ],
      "execution_count": 11,
      "outputs": [
        {
          "output_type": "stream",
          "text": [
            "enter any filename : I.jk\n",
            "extension of file is jk\n"
          ],
          "name": "stdout"
        }
      ]
    },
    {
      "cell_type": "code",
      "metadata": {
        "colab": {
          "base_uri": "https://localhost:8080/"
        },
        "id": "BpsrFfcsamX-",
        "outputId": "d8fcf8dc-5be0-44ec-cf86-c1563ed1e3f3"
      },
      "source": [
        "k1=input(\"enter first key : \")\r\n",
        "k2=input(\"enter second key : \")\r\n",
        "v1=input(\"enter first value : \")\r\n",
        "v2=input(\"enter second value : \")\r\n",
        "dict1={}\r\n",
        "dict2={}\r\n",
        "dict1[k1]=v1\r\n",
        "dict2[k2]=v2\r\n",
        "def merge_dictionaries(x,y):\r\n",
        "  z = {**x,**y}\r\n",
        "  print(\"merged dictionary is : \")\r\n",
        "  return z\r\n",
        "print(merge_dictionaries(dict1,dict2))"
      ],
      "execution_count": 12,
      "outputs": [
        {
          "output_type": "stream",
          "text": [
            "enter first key : Cat\n",
            "enter second key : Dog\n",
            "enter first value : Kitty\n",
            "enter second value : Puppy\n",
            "merged dictionary is : \n",
            "{'Cat': 'Kitty', 'Dog': 'Puppy'}\n"
          ],
          "name": "stdout"
        }
      ]
    },
    {
      "cell_type": "code",
      "metadata": {
        "colab": {
          "base_uri": "https://localhost:8080/"
        },
        "id": "Bh4Bu8i4hTPZ",
        "outputId": "05e034ee-11bc-4c58-9a76-f65df1c82de3"
      },
      "source": [
        "n1=float(input(\"enter the first value : \"))\r\n",
        "n2=float(input(\"enter the second value : \"))\r\n",
        "x=n1\r\n",
        "y=n2\r\n",
        "while (n2 != 0):\r\n",
        "  temp=n2\r\n",
        "  n2=n1%n2\r\n",
        "  n1=temp\r\n",
        "gcd=n1   \r\n",
        "print(\"GCD of\",x,\"and\",y,\"is\",gcd)"
      ],
      "execution_count": 13,
      "outputs": [
        {
          "output_type": "stream",
          "text": [
            "enter the first value : 12\n",
            "enter the second value : 40\n",
            "GCD of 12.0 and 40.0 is 4.0\n"
          ],
          "name": "stdout"
        }
      ]
    },
    {
      "cell_type": "code",
      "metadata": {
        "colab": {
          "base_uri": "https://localhost:8080/"
        },
        "id": "z4FM2D1CdqgH",
        "outputId": "a431b690-08ce-4a41-e593-27c71a6bb353"
      },
      "source": [
        "x=[]\r\n",
        "n=int(input(\"enter list items : \"))\r\n",
        "for i in range(1,n+1):\r\n",
        "    a=int(input(\"enter the value of %d item : \"%i))\r\n",
        "    x.append(a)\r\n",
        "for i  in x:\r\n",
        "  if (i%2 == 0):\r\n",
        "    x.remove(i)\r\n",
        "print(\"modified list after removing even numbers :\")\r\n",
        "print(x)"
      ],
      "execution_count": 14,
      "outputs": [
        {
          "output_type": "stream",
          "text": [
            "enter list items : 4\n",
            "enter the value of 1 item : -2\n",
            "enter the value of 2 item : -1\n",
            "enter the value of 3 item : 0\n",
            "enter the value of 4 item : 1\n",
            "modified list after removing even numbers :\n",
            "[-1, 1]\n"
          ],
          "name": "stdout"
        }
      ]
    },
    {
      "cell_type": "markdown",
      "metadata": {
        "id": "KVtfO5GgR8UQ"
      },
      "source": [
        "Just a arranged qstns of cycle 2 part 1"
      ]
    }
  ]
}